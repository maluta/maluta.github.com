{
 "cells": [
  {
   "cell_type": "code",
   "execution_count": null,
   "id": "cf68f403-0b08-49c6-a0f4-36cafe605078",
   "metadata": {},
   "outputs": [],
   "source": [
    "import pandas as pd\n",
    "import matplotlib.pyplot as plt\n",
    "import seaborn as sns\n",
    "import numpy as np\n",
    "import random\n"
   ]
  },
  {
   "cell_type": "code",
   "execution_count": null,
   "id": "f94bec19-df85-48f5-9b07-bf24e98eaffa",
   "metadata": {},
   "outputs": [],
   "source": [
    "def print_shape(df):\n",
    "    print(\"Lines: \",df.shape[0])\n",
    "    print(\"Columns: \",df.shape[1])"
   ]
  },
  {
   "cell_type": "code",
   "execution_count": null,
   "id": "92280ccc-b07e-4771-813c-5a9c97fbeda9",
   "metadata": {},
   "outputs": [],
   "source": [
    "# Read the CSV file\n",
    "df = pd.read_csv('activities.csv')"
   ]
  },
  {
   "cell_type": "code",
   "execution_count": null,
   "id": "f8364bfb-f043-448e-bf89-e77c18cfbbd4",
   "metadata": {},
   "outputs": [],
   "source": [
    "df.columns"
   ]
  },
  {
   "cell_type": "code",
   "execution_count": null,
   "id": "b79f4fe9-0336-412d-b608-83e1771cf012",
   "metadata": {},
   "outputs": [],
   "source": [
    "print_shape(df)"
   ]
  },
  {
   "cell_type": "code",
   "execution_count": null,
   "id": "b686682b-47c6-40c1-a440-b6fe580fae7c",
   "metadata": {},
   "outputs": [],
   "source": [
    "# filtra apenas as atividades de corrida (run)\n",
    "run_df = df[df['Activity Type'] == 'Run']"
   ]
  },
  {
   "cell_type": "code",
   "execution_count": null,
   "id": "2e8fdb14-04fe-4b8e-8068-08bf2924fe8f",
   "metadata": {},
   "outputs": [],
   "source": [
    "print_shape(run_df)"
   ]
  },
  {
   "cell_type": "code",
   "execution_count": null,
   "id": "9b078bc9-30e6-4846-955b-06d2f080b68b",
   "metadata": {},
   "outputs": [],
   "source": [
    "# seleciona os tênis (IDs)\n",
    "\n",
    "shoes = run_df['Gear'].unique().tolist()\n",
    "shoes_list = [x for x in shoes if not np.isnan(x)]\n",
    "print(str(len(shoes_list)) + \" tênis encontrados\")"
   ]
  },
  {
   "cell_type": "code",
   "execution_count": null,
   "id": "7f12e9b3-1271-40d4-960e-c5ada7875faa",
   "metadata": {},
   "outputs": [],
   "source": [
    "shoes"
   ]
  },
  {
   "cell_type": "code",
   "execution_count": null,
   "id": "57e5f49b-b7cc-430f-ac05-39e9b8de3f84",
   "metadata": {},
   "outputs": [],
   "source": [
    "# print tênis name\n",
    "\n",
    "all_shoes = {}\n",
    "\n",
    "for shoe in shoes_list:\n",
    "    run_df_x = run_df[run_df['Gear'] == shoe]\n",
    "    s = run_df_x['Activity Gear'].unique().tolist()\n",
    "    d = {}\n",
    "    if pd.notna(s[0]):\n",
    "        d = {str(shoe):s[0]}\n",
    "        all_shoes.update(d)\n",
    "        print()\n",
    "        print('Salvando tênis',s[0],shoe)\n",
    "    else: \n",
    "        print()\n",
    "        n = run_df_x[run_df_x['Gear'] == shoe]  \n",
    "        print('-',n.shape[0],'atividades com tênis não identificado:',shoe)\n",
    "        random_row = n.sample(n=1)\n",
    "        print('Veja um exemplo: https://www.strava.com/activities/'+str(random_row['Activity ID'].values[0]))\n",
    "\n"
   ]
  },
  {
   "cell_type": "code",
   "execution_count": null,
   "id": "bd96ad67-b9f8-430f-a6d3-540e9702061c",
   "metadata": {},
   "outputs": [],
   "source": [
    "all_shoes"
   ]
  },
  {
   "cell_type": "code",
   "execution_count": null,
   "id": "d4cae080-1975-4497-a583-1757dc4f3422",
   "metadata": {},
   "outputs": [],
   "source": [
    "# Criando a lista final na mão\n",
    "\n",
    "shoes_dict = {\n",
    "    7026430.0: 'OLYMPIKUS CHALLENGER 2',\n",
    "    7026435.0: 'UNDER ARMOUR THREADBORNE FORTIS',\n",
    "    7056422.0: 'NEW BALANCE 1080 V10',\n",
    "    8226854.0: 'FILA RACER SILVA',\n",
    "    9301729.0: 'FILA CARBON 2021',\n",
    "    9304186.0: 'OLYMPIKUS VELOZ 2021',\n",
    "    10470069.0: 'HOKA BONDI 7',\n",
    "    11339496.0: 'OLYMPIKUS CORRE 1',\n",
    "    13116993.0: 'OLYMPIKUS CORRE 3',\n",
    "    14757734.0: 'FILA KR 6',\n",
    "    16394603.0: 'FILA FLOAT',\n",
    "    19936236.0: 'ADIDAS ADIZERO SL',\n",
    "    19740904.0: 'FILA RACER CARBON 2'\n",
    "}\n",
    "\n",
    "# Print the dictionary to verify\n",
    "print(shoes_dict)\n"
   ]
  },
  {
   "cell_type": "code",
   "execution_count": null,
   "id": "f5da6657-b5f0-4788-bda6-4382668e965a",
   "metadata": {},
   "outputs": [],
   "source": [
    "# Example auxiliary dictionary (please replace with your actual mappings)\n",
    "\n",
    "sample_df = run_df\n",
    "\n",
    "# Map 'Gear' values to more descriptive names\n",
    "sample_df['Gear Name'] = sample_df['Gear'].map(shoes_dict)\n",
    "\n",
    "# Drop rows with missing gear names after mapping\n",
    "sample_df = sample_df.dropna(subset=['Gear Name'])\n",
    "\n",
    "# Plot 'Gear Name' usage over time\n",
    "plt.figure(figsize=(10, 6))\n",
    "plt.scatter(sample_df['Activity Date'], sample_df['Gear Name'], alpha=0.6)\n",
    "plt.xlabel('Período')\n",
    "plt.ylabel('Tênis')\n",
    "plt.title('Corridas')\n",
    "plt.xticks(rotation=45)\n",
    "plt.tight_layout()\n",
    "plt.show()\n"
   ]
  },
  {
   "cell_type": "code",
   "execution_count": null,
   "id": "6522073c-23a5-40a1-88de-e7bf411dab0e",
   "metadata": {},
   "outputs": [],
   "source": [
    "# Convert 'Activity Date' to datetime, ensuring it's properly recognized\n",
    "run_df['Activity Date'] = pd.to_datetime(run_df['Activity Date'], errors='coerce')\n",
    "\n",
    "# Drop rows with missing or invalid dates or gear names\n",
    "run_df = run_df.dropna(subset=['Activity Date', 'Gear Name'])\n",
    "\n",
    "# Convert 'Activity Date' to only include the date part, using .loc[] to avoid the warning\n",
    "run_df.loc[:, 'Activity Date'] = run_df['Activity Date'].dt.date\n",
    "\n",
    "# Aggregate the total distance for each combination of 'Gear Name' and 'Activity Date'\n",
    "distance_per_day = run_df.groupby(['Gear Name', 'Activity Date'])['Distance'].sum().reset_index()\n",
    "\n",
    "# Pivot the table to have one row per 'Gear Name' and one column per 'Activity Date'\n",
    "pivot_table = distance_per_day.pivot(index='Gear Name', columns='Activity Date', values='Distance').fillna(0)\n",
    "\n",
    "# Sort the columns by date to ensure proper accumulation\n",
    "pivot_table = pivot_table.sort_index(axis=1)\n",
    "\n",
    "# Calculate the cumulative sum across the columns (dates)\n",
    "cumulative_pivot_table = pivot_table.cumsum(axis=1)\n",
    "\n",
    "# Save the cumulative pivot table to a CSV file for use in Flourish\n",
    "cumulative_pivot_table.to_csv('cumulative_gear_usage_summary_fixed_date_for_flourish.csv')\n",
    "\n",
    "# Notify the user that the updated file is ready\n",
    "cumulative_file_path_fixed_date = 'cumulative_gear_usage_summary_fixed_date_for_flourish.csv'\n",
    "cumulative_file_path_fixed_date\n"
   ]
  }
 ],
 "metadata": {
  "kernelspec": {
   "display_name": "Python 3 (ipykernel)",
   "language": "python",
   "name": "python3"
  },
  "language_info": {
   "codemirror_mode": {
    "name": "ipython",
    "version": 3
   },
   "file_extension": ".py",
   "mimetype": "text/x-python",
   "name": "python",
   "nbconvert_exporter": "python",
   "pygments_lexer": "ipython3",
   "version": "3.12.4"
  }
 },
 "nbformat": 4,
 "nbformat_minor": 5
}
